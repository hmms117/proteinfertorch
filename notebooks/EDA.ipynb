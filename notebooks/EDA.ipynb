{
 "cells": [
  {
   "cell_type": "code",
   "execution_count": 1,
   "metadata": {},
   "outputs": [],
   "source": [
    "import pandas as pd\n",
    "import numpy as np\n",
    "from torcheval.metrics.functional import binary_precision_recall_curve\n",
    "import torch"
   ]
  },
  {
   "cell_type": "code",
   "execution_count": null,
   "metadata": {},
   "outputs": [],
   "source": [
    "labels = pd.read_hdf(\"../outputs/test_labels_ProteInfer.h5\", key=\"labels_df\")\n",
    "probabilities = pd.read_hdf(\"../outputs/test_probabilities_ProteInfer.h5\", key=\"probabilities_df\")\n",
    "\n",
    "logits_binary = torch.tensor(probabilities.values.flatten(),device='cuda')\n",
    "labels_binary = torch.tensor(labels.values.flatten(),device='cuda')\n",
    "precision, recall, thresholds = binary_precision_recall_curve(logits_binary, labels_binary)\n",
    "f1 = 2 * precision * recall / (precision + recall)\n",
    "\n",
    "best_th,best_f1 = thresholds[torch.argmax(f1)].item(),torch.max(f1).item()\n",
    "print(best_th,best_f1)"
   ]
  }
 ],
 "metadata": {
  "kernelspec": {
   "display_name": "proteinfertorch",
   "language": "python",
   "name": "python3"
  },
  "language_info": {
   "codemirror_mode": {
    "name": "ipython",
    "version": 3
   },
   "file_extension": ".py",
   "mimetype": "text/x-python",
   "name": "python",
   "nbconvert_exporter": "python",
   "pygments_lexer": "ipython3",
   "version": "3.12.2"
  }
 },
 "nbformat": 4,
 "nbformat_minor": 2
}
