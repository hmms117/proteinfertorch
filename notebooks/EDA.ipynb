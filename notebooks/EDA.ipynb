{
 "cells": [
  {
   "cell_type": "code",
   "execution_count": 10,
   "metadata": {},
   "outputs": [],
   "source": [
    "import pandas as pd\n",
    "import numpy as np\n",
    "from torcheval.metrics.functional import binary_precision_recall_curve\n",
    "import torch\n",
    "from proteinfertorch.utils import read_pickle, read_fasta,save_to_fasta, load_emeddings\n",
    "import matplotlib.pyplot as plt\n",
    "import os\n"
   ]
  },
  {
   "cell_type": "code",
   "execution_count": 12,
   "metadata": {},
   "outputs": [
    {
     "name": "stderr",
     "output_type": "stream",
     "text": [
      "/home/samirchar/proteinfertorch/proteinfertorch/utils.py:485: FutureWarning: You are using `torch.load` with `weights_only=False` (the current default value), which uses the default pickle module implicitly. It is possible to construct malicious pickle data which will execute arbitrary code during unpickling (See https://github.com/pytorch/pytorch/blob/main/SECURITY.md#untrusted-models for more details). In a future release, the default value for `weights_only` will be flipped to `True`. This limits the functions that could be executed during unpickling. Arbitrary objects will no longer be allowed to be loaded via this mode unless they are explicitly allowlisted by the user via `torch.serialization.add_safe_globals`. We recommend you start setting `weights_only=True` for any use case where you don't have full control of the loaded file. Please open an issue on GitHub for any issues related to this experimental feature.\n",
      "  embeddings.append(torch.load(f\"{dir}/{partitions[partition_idx]}\"))\n"
     ]
    }
   ],
   "source": [
    "emb_10 = load_emeddings(\"../outputs/embeddings_10\")\n",
    "emb_1 = load_emeddings(\"../outputs/embeddings_1\")"
   ]
  },
  {
   "cell_type": "code",
   "execution_count": 2,
   "metadata": {},
   "outputs": [
    {
     "name": "stdout",
     "output_type": "stream",
     "text": [
      "Saved FASTA file to ../data/random_split/train_GO_mini.fasta\n",
      "Saved FASTA file to ../data/random_split/dev_GO_mini.fasta\n",
      "Saved FASTA file to ../data/random_split/test_GO_mini.fasta\n"
     ]
    }
   ],
   "source": [
    "ds = []\n",
    "for split in [\"train\",\"dev\",\"test\"]:\n",
    "    data = read_fasta(f\"../data/random_split/{split}_GO.fasta\")    \n",
    "    d = [(obs[0],obs[1],obs[2][:2]) for obs in data[:40*8*5]]\n",
    "    ds.append(d)\n",
    "    save_to_fasta(d,f\"../data/random_split/{split}_GO_mini.fasta\")"
   ]
  },
  {
   "cell_type": "code",
   "execution_count": 37,
   "metadata": {},
   "outputs": [],
   "source": [
    "from collections import defaultdict\n",
    "model_ids = defaultdict(list)\n",
    "file_name2var_name = {\n",
    "    \"noxpd2_cnn_swissprot_go_clustered_swiss-cnn_for_swissprot_go_clustered\":\"GO_CLUSTERED_ENSEMBLE_ELEMENT_EXPERIMENT_IDS\",\n",
    "    \"noxpd2_cnn_swissprot_go_random_swiss-cnn_for_swissprot_go_random\":\"GO_RANDOM_ENSEMBLE_ELEMENT_EXPERIMENT_IDS\",\n",
    "    \"noxpd2_cnn_swissprot_ec_clustered_swiss-cnn_for_swissprot_ec_clustered\":\"EC_CLUSTERED_ENSEMBLE_ELEMENT_EXPERIMENT_IDS\",\n",
    "    \"noxpnd_cnn_swissprot_ec_random_swiss-cnn_for_swissprot_ec_random\":\"EC_RANDOM_ENSEMBLE_ELEMENT_EXPERIMENT_IDS\",\n",
    "\n",
    "}\n",
    "\n",
    "for i in pd.read_csv('../zipped_models.txt', header=None).values.flatten():\n",
    "    file_name = i.split('/')[-1].replace('.tar.gz', '')\n",
    "    #Only consider file_names with go or ec in them\n",
    "    if '-'.join(file_name.split('-')[:-1]) in file_name2var_name:\n",
    "        # Split string noxpd2_cnn_swissprot_ec_clustered_swiss-cnn_for_swissprot_ec_clustered-13704042.tar.gz' by - followed by number and extension\n",
    "        split = file_name.split('-')\n",
    "        w_id = int(split[-1])\n",
    "        name = '-'.join(split[:-1])\n",
    "        model_ids[file_name2var_name[name]].append(str(w_id))\n"
   ]
  },
  {
   "cell_type": "code",
   "execution_count": null,
   "metadata": {},
   "outputs": [],
   "source": [
    "labels = pd.read_hdf(\"../outputs/test_labels_ProteInfer.h5\", key=\"labels_df\")\n",
    "probabilities = pd.read_hdf(\"../outputs/test_probabilities_ProteInfer.h5\", key=\"probabilities_df\")\n",
    "\n",
    "logits_binary = torch.tensor(probabilities.values.flatten(),device='cuda')\n",
    "labels_binary = torch.tensor(labels.values.flatten(),device='cuda')\n",
    "precision, recall, thresholds = binary_precision_recall_curve(logits_binary, labels_binary)\n",
    "f1 = 2 * precision * recall / (precision + recall)\n",
    "\n",
    "best_th,best_f1 = thresholds[torch.argmax(f1)].item(),torch.max(f1).item()\n",
    "print(best_th,best_f1)"
   ]
  }
 ],
 "metadata": {
  "kernelspec": {
   "display_name": "proteinfertorch",
   "language": "python",
   "name": "python3"
  },
  "language_info": {
   "codemirror_mode": {
    "name": "ipython",
    "version": 3
   },
   "file_extension": ".py",
   "mimetype": "text/x-python",
   "name": "python",
   "nbconvert_exporter": "python",
   "pygments_lexer": "ipython3",
   "version": "3.12.2"
  }
 },
 "nbformat": 4,
 "nbformat_minor": 2
}
