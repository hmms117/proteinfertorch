{
 "cells": [
  {
   "cell_type": "code",
   "execution_count": 1,
   "metadata": {},
   "outputs": [],
   "source": [
    "import pandas as pd\n",
    "import numpy as np\n",
    "from torcheval.metrics.functional import binary_precision_recall_curve\n",
    "import torch\n",
    "from proteinfertorch.utils import read_pickle"
   ]
  },
  {
   "cell_type": "code",
   "execution_count": 37,
   "metadata": {},
   "outputs": [],
   "source": [
    "from collections import defaultdict\n",
    "model_ids = defaultdict(list)\n",
    "file_name2var_name = {\n",
    "    \"noxpd2_cnn_swissprot_go_clustered_swiss-cnn_for_swissprot_go_clustered\":\"GO_CLUSTERED_ENSEMBLE_ELEMENT_EXPERIMENT_IDS\",\n",
    "    \"noxpd2_cnn_swissprot_go_random_swiss-cnn_for_swissprot_go_random\":\"GO_RANDOM_ENSEMBLE_ELEMENT_EXPERIMENT_IDS\",\n",
    "    \"noxpd2_cnn_swissprot_ec_clustered_swiss-cnn_for_swissprot_ec_clustered\":\"EC_CLUSTERED_ENSEMBLE_ELEMENT_EXPERIMENT_IDS\",\n",
    "    \"noxpnd_cnn_swissprot_ec_random_swiss-cnn_for_swissprot_ec_random\":\"EC_RANDOM_ENSEMBLE_ELEMENT_EXPERIMENT_IDS\",\n",
    "\n",
    "}\n",
    "\n",
    "for i in pd.read_csv('../zipped_models.txt', header=None).values.flatten():\n",
    "    file_name = i.split('/')[-1].replace('.tar.gz', '')\n",
    "    #Only consider file_names with go or ec in them\n",
    "    if '-'.join(file_name.split('-')[:-1]) in file_name2var_name:\n",
    "        # Split string noxpd2_cnn_swissprot_ec_clustered_swiss-cnn_for_swissprot_ec_clustered-13704042.tar.gz' by - followed by number and extension\n",
    "        split = file_name.split('-')\n",
    "        w_id = int(split[-1])\n",
    "        name = '-'.join(split[:-1])\n",
    "        model_ids[file_name2var_name[name]].append(str(w_id))\n"
   ]
  },
  {
   "cell_type": "code",
   "execution_count": null,
   "metadata": {},
   "outputs": [],
   "source": [
    "labels = pd.read_hdf(\"../outputs/test_labels_ProteInfer.h5\", key=\"labels_df\")\n",
    "probabilities = pd.read_hdf(\"../outputs/test_probabilities_ProteInfer.h5\", key=\"probabilities_df\")\n",
    "\n",
    "logits_binary = torch.tensor(probabilities.values.flatten(),device='cuda')\n",
    "labels_binary = torch.tensor(labels.values.flatten(),device='cuda')\n",
    "precision, recall, thresholds = binary_precision_recall_curve(logits_binary, labels_binary)\n",
    "f1 = 2 * precision * recall / (precision + recall)\n",
    "\n",
    "best_th,best_f1 = thresholds[torch.argmax(f1)].item(),torch.max(f1).item()\n",
    "print(best_th,best_f1)"
   ]
  }
 ],
 "metadata": {
  "kernelspec": {
   "display_name": "proteinfertorch",
   "language": "python",
   "name": "python3"
  },
  "language_info": {
   "codemirror_mode": {
    "name": "ipython",
    "version": 3
   },
   "file_extension": ".py",
   "mimetype": "text/x-python",
   "name": "python",
   "nbconvert_exporter": "python",
   "pygments_lexer": "ipython3",
   "version": "3.12.2"
  }
 },
 "nbformat": 4,
 "nbformat_minor": 2
}
